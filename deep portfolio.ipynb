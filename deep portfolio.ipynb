{
 "cells": [
  {
   "cell_type": "markdown",
   "metadata": {
    "ein.tags": "worksheet-0",
    "slideshow": {
     "slide_type": "-"
    }
   },
   "source": [
    "## model"
   ]
  },
  {
   "cell_type": "code",
   "execution_count": 1,
   "metadata": {
    "autoscroll": false,
    "ein.hycell": false,
    "ein.tags": "worksheet-0",
    "slideshow": {
     "slide_type": "-"
    }
   },
   "outputs": [],
   "source": [
    "import torch\n",
    "import torch.nn as nn\n",
    "import torch.nn.functional as F\n",
    "\n",
    "\n",
    "# build network\n",
    "class Net(nn.Module):\n",
    "\n",
    "    def __init__(self, shape):\n",
    "        super(Net, self).__init__()\n",
    "        x = torch.zeros(shape) # dummy inputs used to infer shapes of layers\n",
    "        print(x.shape)\n",
    "        \n",
    "        self.conv1 = nn.Conv2d(x.shape[1], 128, (1, 3), bias=False)\n",
    "        x = self.conv1(x)\n",
    "        print(x.shape)\n",
    "        \n",
    "        self.conv2 = nn.Conv2d(x.shape[1], 64, (1, 3), bias=False)\n",
    "        x = self.conv2(x)\n",
    "        print(x.shape)\n",
    "        \n",
    "        self.conv3 = nn.Conv2d(x.shape[1], 32, (1, x.shape[3]), bias=False)\n",
    "        x = self.conv3(x)\n",
    "        print(x.shape)\n",
    "        \n",
    "        self.conv4 = nn.Conv2d(x.shape[1], 1, (1, 1), bias=False)\n",
    "        x = self.conv4(x)\n",
    "        print(x.shape)\n",
    "        \n",
    "        x = x.view(x.shape[0], -1) # 4d -> 2d\n",
    "        print(x.shape)\n",
    "\n",
    "    def forward(self, x):\n",
    "        x = F.relu(self.conv1(x))\n",
    "        x = F.relu(self.conv2(x))\n",
    "        x = F.relu(self.conv3(x))\n",
    "        x = self.conv4(x)\n",
    "        x = x.view(x.shape[0], -1)\n",
    "        x = F.softmax(x, dim=1)\n",
    "        return x\n",
    "\n",
    "    def reset_parameters(self):\n",
    "        for m in self.children():\n",
    "            if isinstance(m, nn.Conv2d) or isinstance(m, nn.Linear):\n",
    "                m.reset_parameters()\n",
    "\n",
    "\n",
    "# define loss function\n",
    "class ReturnAsLoss(nn.Module):\n",
    "    def __init__(self):\n",
    "        super(ReturnAsLoss, self).__init__()\n",
    "\n",
    "    def forward(self, output, y):\n",
    "        '''negative logarithm return'''\n",
    "        return -torch.sum(torch.log(torch.sum(output * y, dim=1)))\n",
    "\n",
    "class BestStock(nn.Module):\n",
    "    def __init__(self):\n",
    "        super(BestStock, self).__init__()\n",
    "        self._criteria = nn.CrossEntropyLoss()\n",
    "\n",
    "    def forward(self, output, y):\n",
    "        y_copy = y.clone()\n",
    "        y_copy[:, 0] += 0.005 # be conservative\n",
    "        return self._criteria(output, y_copy.argmax(dim=1))\n",
    "\n"
   ]
  },
  {
   "cell_type": "markdown",
   "metadata": {
    "ein.tags": "worksheet-0",
    "slideshow": {
     "slide_type": "-"
    }
   },
   "source": [
    "## config"
   ]
  },
  {
   "cell_type": "code",
   "execution_count": 14,
   "metadata": {
    "autoscroll": false,
    "ein.hycell": false,
    "ein.tags": "worksheet-0",
    "scrolled": true,
    "slideshow": {
     "slide_type": "-"
    }
   },
   "outputs": [],
   "source": [
    "%reload_ext autoreload\n",
    "%aimport dataset\n",
    "%autoreload 1\n",
    "from dataset import Dataset\n",
    "from networks import Conv2DNet\n",
    "\n",
    "# config\n",
    "features = ['Open', 'High', 'Low', 'Close']\n",
    "stocks = ['AAPL', 'MSFT', 'AMZN', 'GOOGL', 'INTC', 'CSCO', 'CMCSA', 'PEP', 'NFLX', 'ADBE']\n",
    "# stocks = ['AAPL', 'MSFT', 'AMZN', 'GOOGL']\n",
    "\n",
    "epoch = 200 # repeat times\n",
    "train_batch_num = 100\n",
    "batch_size = 30\n",
    "channel = len(features)\n",
    "assets = len(stocks) + 1 # m assets including cash\n",
    "window = 5 # using historical price in the past few days as features\n",
    "\n",
    "# prepare data\n",
    "data = Dataset('data.csv', features=features, stocks=stocks,\n",
    "               train_batch_num=train_batch_num,\n",
    "               batch_size=batch_size,\n",
    "               window=window)\n"
   ]
  },
  {
   "cell_type": "markdown",
   "metadata": {
    "ein.tags": "worksheet-0",
    "slideshow": {
     "slide_type": "-"
    }
   },
   "source": [
    "## training"
   ]
  },
  {
   "cell_type": "code",
   "execution_count": 16,
   "metadata": {
    "autoscroll": false,
    "ein.hycell": false,
    "ein.tags": "worksheet-0",
    "scrolled": false,
    "slideshow": {
     "slide_type": "-"
    }
   },
   "outputs": [
    {
     "ename": "TypeError",
     "evalue": "__init__() takes 2 positional arguments but 5 were given",
     "output_type": "error",
     "traceback": [
      "\u001b[0;31m---------------------------------------------------------------------------\u001b[0m",
      "\u001b[0;31mTypeError\u001b[0m                                 Traceback (most recent call last)",
      "\u001b[0;32m<ipython-input-16-c803fa0ad4be>\u001b[0m in \u001b[0;36m<module>\u001b[0;34m\u001b[0m\n\u001b[1;32m     24\u001b[0m \u001b[0;31m# construct model\u001b[0m\u001b[0;34m\u001b[0m\u001b[0;34m\u001b[0m\u001b[0;34m\u001b[0m\u001b[0m\n\u001b[1;32m     25\u001b[0m \u001b[0;31m#net = Net((batch_size, channel, assets, window))\u001b[0m\u001b[0;34m\u001b[0m\u001b[0;34m\u001b[0m\u001b[0;34m\u001b[0m\u001b[0m\n\u001b[0;32m---> 26\u001b[0;31m \u001b[0mnet\u001b[0m\u001b[0;34m=\u001b[0m\u001b[0mConv2DNet\u001b[0m\u001b[0;34m(\u001b[0m\u001b[0mbatch_size\u001b[0m\u001b[0;34m,\u001b[0m \u001b[0mchannel\u001b[0m\u001b[0;34m,\u001b[0m \u001b[0massets\u001b[0m\u001b[0;34m,\u001b[0m \u001b[0mwindow\u001b[0m\u001b[0;34m)\u001b[0m\u001b[0;34m\u001b[0m\u001b[0;34m\u001b[0m\u001b[0m\n\u001b[0m\u001b[1;32m     27\u001b[0m \u001b[0mnet\u001b[0m\u001b[0;34m.\u001b[0m\u001b[0mreset_parameters\u001b[0m\u001b[0;34m(\u001b[0m\u001b[0;34m)\u001b[0m\u001b[0;34m\u001b[0m\u001b[0;34m\u001b[0m\u001b[0m\n\u001b[1;32m     28\u001b[0m \u001b[0mlogger\u001b[0m\u001b[0;34m.\u001b[0m\u001b[0minfo\u001b[0m\u001b[0;34m(\u001b[0m\u001b[0mnet\u001b[0m\u001b[0;34m)\u001b[0m\u001b[0;34m\u001b[0m\u001b[0;34m\u001b[0m\u001b[0m\n",
      "\u001b[0;31mTypeError\u001b[0m: __init__() takes 2 positional arguments but 5 were given"
     ]
    }
   ],
   "source": [
    "import os\n",
    "import logging\n",
    "from datetime import datetime\n",
    "import pathlib\n",
    "\n",
    "import numpy as np\n",
    "import pandas as pd\n",
    "import matplotlib.pyplot as plt\n",
    "%matplotlib inline\n",
    "import torch.optim as optim\n",
    "\n",
    "save_path = pathlib.Path(\"stats\", datetime.now().strftime(\"%Y-%m-%d_%H-%M-%S\"))\n",
    "save_path.mkdir(parents=True, exist_ok=True)\n",
    "\n",
    "# create logger\n",
    "logger = logging.getLogger('nn')\n",
    "logger.handlers = []\n",
    "logger.setLevel(logging.DEBUG)\n",
    "file = logging.FileHandler(os.path.join(save_path, 'log'))\n",
    "console = logging.StreamHandler()\n",
    "logger.addHandler(file)\n",
    "logger.addHandler(console)\n",
    "\n",
    "# construct model\n",
    "#net = Net((batch_size, channel, assets, window))\n",
    "net=Conv2DNet(batch_size, channel, assets, window)\n",
    "net.reset_parameters()\n",
    "logger.info(net)\n",
    "optimizer = optim.Adam(net.parameters(), lr=0.001)\n",
    "criterion = BestStock()\n",
    "\n",
    "def train_step(X, y):\n",
    "    X, y = torch.Tensor(X), torch.Tensor(y)\n",
    "    print(X.size(), y.size())\n",
    "    optimizer.zero_grad()   # zero the gradient buffers\n",
    "    output = net(X)\n",
    "    loss = criterion(output, y)\n",
    "    loss.backward()\n",
    "    optimizer.step()    # Does the update\n",
    "    return (\n",
    "        loss.item(),\n",
    "        np.mean(list(output.argmax(1) == y.argmax(1))), # # accuray\n",
    "        torch.prod(torch.sum(output * y, dim=1)).item() # cumulative return in this batch\n",
    "    )\n",
    "\n",
    "# loop over epoch and batch\n",
    "for e in range(epoch):\n",
    "    current_epoch = []\n",
    "    for i, (X, y) in enumerate(data.train_batch()):\n",
    "        current_epoch.append(train_step(X, y))\n",
    "    current_epoch = np.array(current_epoch)\n",
    "    logger.info(\"{:3d}, loss:{:.3f}, acc:{:+.3f}, ret:{:+.3f}\".format(\n",
    "        e+1,\n",
    "        *(current_epoch.mean(axis=0))))\n",
    "    torch.save({\n",
    "        'net': net.state_dict(),\n",
    "        'optimizer': optimizer.state_dict(),\n",
    "        'criterion': criterion.state_dict()\n",
    "    }, os.path.join(save_path, 'state.pt'))\n",
    "fig1, ax1 = plt.subplots(figsize=(8, 4))\n",
    "ax1.set_xlabel('Day')\n",
    "ax1.set_ylabel('Value')\n",
    "ax1.set_yscale('log')\n",
    "# cumulative return of the last epoch over the whole training period\n",
    "ax1.plot(np.arange(0, len(current_epoch) * batch_size, batch_size), (pd.Series(current_epoch[:, 2])).cumprod())\n",
    "fig1.savefig(os.path.join(save_path, 'training.pdf'))"
   ]
  },
  {
   "cell_type": "markdown",
   "metadata": {
    "ein.tags": "worksheet-0",
    "slideshow": {
     "slide_type": "-"
    }
   },
   "source": [
    "## back test"
   ]
  },
  {
   "cell_type": "code",
   "execution_count": 4,
   "metadata": {
    "autoscroll": false,
    "ein.hycell": false,
    "ein.tags": "worksheet-0",
    "scrolled": false,
    "slideshow": {
     "slide_type": "-"
    }
   },
   "outputs": [
    {
     "data": {
      "image/png": "[encoded data removed]",
      "text/plain": [
       "<Figure size 576x288 with 1 Axes>"
      ]
     },
     "metadata": {
      "needs_background": "light"
     },
     "output_type": "display_data"
    }
   ],
   "source": [
    "def load_model(path):\n",
    "    checkpoint = torch.load(path)\n",
    "    net.load_state_dict(checkpoint['net'])\n",
    "    net.eval()\n",
    "# load_model(save_path)\n",
    "\n",
    "backtest_return = []\n",
    "test_batch_num = 600\n",
    "\n",
    "def reallocate(w):\n",
    "    # assets that have weights lower than cash are eliminated\n",
    "    cash = w[:, 0][:, None]\n",
    "    w[w < cash] = 0\n",
    "    w[:, 0] += 1-w.sum(dim=1)\n",
    "    return w\n",
    "\n",
    "for i, (X, y) in enumerate(data.test_batch(batch_size=1)):\n",
    "    X, y = torch.Tensor(X), torch.Tensor(y)\n",
    "    output = net(X)\n",
    "    output = reallocate(output)\n",
    "    backtest_return.extend(torch.sum(output * y, dim=1))\n",
    "    if test_batch_num and i+1 >= test_batch_num:\n",
    "        break\n",
    "fig2, ax2 = plt.subplots(figsize=(8, 4))\n",
    "ax2.set_xlabel('Date')\n",
    "ax2.set_ylabel('Value')\n",
    "# cumulative return in the last epoch over the whole training period\n",
    "ax2.plot((pd.Series(backtest_return)).cumprod(), label='portfolio', color='red')\n",
    "ax2.plot(data.baseline()[:len(backtest_return)], label='market')\n",
    "ax2.legend(loc='upper left')\n",
    "fig2.savefig(os.path.join(save_path, 'test.pdf'))"
   ]
  },
  {
   "cell_type": "code",
   "execution_count": null,
   "metadata": {},
   "outputs": [],
   "source": []
  }
 ],
 "metadata": {
  "kernelspec": {
   "display_name": "Python 3",
   "language": "python",
   "name": "python3"
  },
  "language_info": {
   "codemirror_mode": {
    "name": "ipython",
    "version": 3
   },
   "file_extension": ".py",
   "mimetype": "text/x-python",
   "name": "python",
   "nbconvert_exporter": "python",
   "pygments_lexer": "ipython3",
   "version": "3.7.2"
  },
  "name": "deep portfolio.ipynb"
 },
 "nbformat": 4,
 "nbformat_minor": 2
}
