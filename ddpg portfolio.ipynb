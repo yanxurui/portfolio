{
 "cells": [
  {
   "cell_type": "markdown",
   "metadata": {},
   "source": [
    "An agent is trained to determine the weights in a portfolio in consecutive 10 days (an episode include 10 steps) using continuous control, specifically, DDPG.\n",
    "\n",
    "It **does not** work when episode varies (`batch_num` > 1) because financial time series are very unstationary."
   ]
  },
  {
   "cell_type": "code",
   "execution_count": 81,
   "metadata": {},
   "outputs": [],
   "source": [
    "from portfolio_env import PortfolioEnv\n",
    "env = gym.make('Portfolio-v0',\n",
    "               features=['Close'],\n",
    "               stocks = ['GOOGL'],\n",
    "               batch_num = 1,\n",
    "               batch_size = 10,\n",
    "               window=10)"
   ]
  },
  {
   "cell_type": "code",
   "execution_count": 82,
   "metadata": {
    "scrolled": false
   },
   "outputs": [
    {
     "name": "stdout",
     "output_type": "stream",
     "text": [
      "_________________________________________________________________\n",
      "Layer (type)                 Output Shape              Param #   \n",
      "=================================================================\n",
      "observation_input (InputLaye (None, 1, 1, 2, 10)       0         \n",
      "_________________________________________________________________\n",
      "reshape_73 (Reshape)         (None, 1, 2, 10)          0         \n",
      "_________________________________________________________________\n",
      "conv2d_145 (Conv2D)          (None, 32, 2, 8)          128       \n",
      "_________________________________________________________________\n",
      "conv2d_146 (Conv2D)          (None, 16, 2, 1)          4112      \n",
      "_________________________________________________________________\n",
      "conv2d_147 (Conv2D)          (None, 1, 2, 1)           17        \n",
      "_________________________________________________________________\n",
      "flatten_49 (Flatten)         (None, 2)                 0         \n",
      "_________________________________________________________________\n",
      "activation_49 (Activation)   (None, 2)                 0         \n",
      "=================================================================\n",
      "Total params: 4,257\n",
      "Trainable params: 4,257\n",
      "Non-trainable params: 0\n",
      "_________________________________________________________________\n",
      "None\n",
      "__________________________________________________________________________________________________\n",
      "Layer (type)                    Output Shape         Param #     Connected to                     \n",
      "==================================================================================================\n",
      "observation_input (InputLayer)  (None, 1, 1, 2, 10)  0                                            \n",
      "__________________________________________________________________________________________________\n",
      "reshape_74 (Reshape)            (None, 1, 2, 10)     0           observation_input[0][0]          \n",
      "__________________________________________________________________________________________________\n",
      "action_input (InputLayer)       (None, 2)            0                                            \n",
      "__________________________________________________________________________________________________\n",
      "conv2d_148 (Conv2D)             (None, 32, 2, 8)     128         reshape_74[0][0]                 \n",
      "__________________________________________________________________________________________________\n",
      "reshape_75 (Reshape)            (None, 1, 2, 1)      0           action_input[0][0]               \n",
      "__________________________________________________________________________________________________\n",
      "conv2d_149 (Conv2D)             (None, 16, 2, 1)     4112        conv2d_148[0][0]                 \n",
      "__________________________________________________________________________________________________\n",
      "concatenate_25 (Concatenate)    (None, 17, 2, 1)     0           reshape_75[0][0]                 \n",
      "                                                                 conv2d_149[0][0]                 \n",
      "__________________________________________________________________________________________________\n",
      "conv2d_150 (Conv2D)             (None, 1, 2, 1)      18          concatenate_25[0][0]             \n",
      "__________________________________________________________________________________________________\n",
      "flatten_50 (Flatten)            (None, 2)            0           conv2d_150[0][0]                 \n",
      "__________________________________________________________________________________________________\n",
      "dense_25 (Dense)                (None, 1)            3           flatten_50[0][0]                 \n",
      "__________________________________________________________________________________________________\n",
      "activation_50 (Activation)      (None, 1)            0           dense_25[0][0]                   \n",
      "==================================================================================================\n",
      "Total params: 4,261\n",
      "Trainable params: 4,261\n",
      "Non-trainable params: 0\n",
      "__________________________________________________________________________________________________\n",
      "None\n",
      "Training for 1000 steps ...\n",
      "Interval 1 (0 steps performed)\n",
      " 1000/10000 [==>...........................] - ETA: 5:47 - reward: 0.6045done, took 38.559 seconds\n"
     ]
    },
    {
     "data": {
      "text/plain": [
       "<keras.callbacks.History at 0x144092e80>"
      ]
     },
     "execution_count": 82,
     "metadata": {},
     "output_type": "execute_result"
    }
   ],
   "source": [
    "from keras.models import Sequential, Model\n",
    "from keras.layers import Dense, Activation, Flatten, Input, Concatenate, Conv2D, Reshape\n",
    "from keras.optimizers import Adam\n",
    "from keras import backend as K\n",
    "K.set_image_dim_ordering('th')\n",
    "\n",
    "from rl.agents import DDPGAgent\n",
    "from rl.memory import SequentialMemory\n",
    "from rl.random import OrnsteinUhlenbeckProcess, GaussianWhiteNoiseProcess\n",
    "\n",
    "# First, we build two networks for actor and critic seperately\n",
    "observation_input_raw = Input(shape=(1,)+env.observation_space.shape, name='observation_input')\n",
    "observation_input = Reshape(env.observation_space.shape)(observation_input_raw)\n",
    "x = Conv2D(32, (1, 3), activation='relu')(observation_input)\n",
    "x = Conv2D(16, (1, int(x.shape[-1])))(x)\n",
    "x = Conv2D(1, (1, 1))(x)\n",
    "x = Flatten()(x)\n",
    "action = Activation('softmax')(x)\n",
    "actor = Model(inputs=observation_input_raw, outputs=action)\n",
    "print(actor.summary())\n",
    "\n",
    "nb_actions = env.action_space.shape[0]\n",
    "action_input = Input(shape=(nb_actions,), name='action_input')\n",
    "observation_input_raw = Input(shape=(1,)+env.observation_space.shape, name='observation_input')\n",
    "observation_input = Reshape(env.observation_space.shape)(observation_input_raw)\n",
    "x = Conv2D(32, (1, 3), activation='relu')(observation_input)\n",
    "x = Conv2D(16, (1, int(x.shape[-1])))(x)\n",
    "x = Concatenate(axis=1)([Reshape((1, -1, 1))(action_input), x]) # insert action here\n",
    "x = Conv2D(1, (1, 1))(x)\n",
    "x = Flatten()(x)\n",
    "# the structure above is the same as actor except the inserted action\n",
    "x = Dense(1)(x)\n",
    "Q = Activation('linear')(x)\n",
    "critic = Model(inputs=[action_input, observation_input_raw], outputs=Q)\n",
    "print(critic.summary())\n",
    "\n",
    "# Then, we configure and compile our agent. You can use every built-in Keras optimizer\n",
    "memory = SequentialMemory(limit=100, window_length=1)\n",
    "random_process = GaussianWhiteNoiseProcess(size=nb_actions, mu=0.5, sigma=.001)\n",
    "agent = DDPGAgent(nb_actions=nb_actions, actor=actor, critic=critic, critic_action_input=action_input,\n",
    "                  memory=memory, random_process=random_process, nb_steps_warmup_critic=100, nb_steps_warmup_actor=100, gamma=.99, target_model_update=1e-3, batch_size=env.batch_size)\n",
    "agent.compile(Adam(lr=.0001, clipnorm=1.), metrics=['mae'])\n",
    "\n",
    "agent.fit(env, nb_steps=1000, verbose=1)\n"
   ]
  },
  {
   "cell_type": "code",
   "execution_count": 83,
   "metadata": {},
   "outputs": [
    {
     "name": "stdout",
     "output_type": "stream",
     "text": [
      "Testing for 1 episodes ...\n",
      "[[ 0.         -0.00273799]\n",
      " [ 0.02092412  0.97907591]]\n",
      "[[0.         0.07033118]\n",
      " [0.0189471  0.98105294]]\n",
      "[[0.         0.00624899]\n",
      " [0.05702892 0.94297111]]\n",
      "[[ 0.         -0.00585757]\n",
      " [ 0.02701478  0.97298527]]\n",
      "[[ 0.         -0.00300064]\n",
      " [ 0.17282525  0.82717472]]\n",
      "[[0.         0.03441954]\n",
      " [0.15587924 0.84412074]]\n",
      "[[ 0.         -0.0017722 ]\n",
      " [ 0.25957999  0.74042004]]\n",
      "[[0.         0.03439327]\n",
      " [0.23003884 0.76996112]]\n",
      "[[ 0.         -0.07111026]\n",
      " [ 0.14755371  0.85244632]]\n",
      "[[0.         0.00601182]\n",
      " [0.10145867 0.89854127]]\n",
      "Episode 1: reward: 0.058, steps: 10\n"
     ]
    },
    {
     "data": {
      "text/plain": [
       "<keras.callbacks.History at 0x1443cae48>"
      ]
     },
     "execution_count": 83,
     "metadata": {},
     "output_type": "execute_result"
    }
   ],
   "source": [
    "# Finally, evaluate our algorithm\n",
    "agent.test(env, nb_episodes=1)"
   ]
  }
 ],
 "metadata": {
  "kernelspec": {
   "display_name": "Python 3",
   "language": "python",
   "name": "python3"
  },
  "language_info": {
   "codemirror_mode": {
    "name": "ipython",
    "version": 3
   },
   "file_extension": ".py",
   "mimetype": "text/x-python",
   "name": "python",
   "nbconvert_exporter": "python",
   "pygments_lexer": "ipython3",
   "version": "3.6.6"
  }
 },
 "nbformat": 4,
 "nbformat_minor": 2
}
